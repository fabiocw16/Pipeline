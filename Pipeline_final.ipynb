{
 "cells": [
  {
   "cell_type": "code",
   "execution_count": 8,
   "metadata": {},
   "outputs": [],
   "source": [
    "# Pacotes\n",
    "\n",
    "import matplotlib.pyplot as plt\n",
    "import math\n",
    "import astropy.io as io\n",
    "from astropy.io import fits\n",
    "import numpy as np\n",
    "import glob\n",
    "import pandas as pd\n",
    "import re\n",
    "from numpy import zeros"
   ]
  },
  {
   "cell_type": "markdown",
   "metadata": {},
   "source": [
    "## 1) PROCESSO A SER REALIZADO"
   ]
  },
  {
   "cell_type": "markdown",
   "metadata": {},
   "source": [
    "Esse pipeline tem como objetivo fazer a redução das imagens no que tange ao tratamento com bias frames (tratamento do erro de leitura) e flat frames (tratamento da inomogeneidade da sensibilidade pixel a pixel), aqui não faremos os tratamentos de dark frames (tratamento de fotoelétrons emitidos devido a aquecimento da CCD). Além disso, descrevemos a redução em um único filtro. O procedimento básico é descrito abaixo.\n",
    "\n",
    "1) Temos um total de imagens flats e lights em um dado filtro, e um total de imagens bias (nesse caso não importa o filtro). Não consideramos imagens do tipo dark. <br>\n",
    "2) Transformamos todas as imagens de bias em um cubo de dados e tiramos a mediana desse cubo de dados com todas as imagens, esse será nosso master bias (2D). <br>\n",
    "3) Subtraímos o master bias tanto das imagens de ciência como flats. <br>\n",
    "4) Dividimos cada imagem flat subtraída do bias pela sua média, assim temos as imagens flats normalizadas. <br>\n",
    "5) Assim, como fizemos com os bias, transformamos as imagens flats reduzidas do bias e normalizadas em um cubo de dados, e disso tiramos a mediana tendo assim o master flat normalizado. Esse será nosso master flat normalizado. <br>\n",
    "6) Dividimos as imagens de ciẽncia reduzidas do bias pelo master flat normalizado, tendo assim nossas imagens de ciência finais. <br>\n",
    "\n",
    "Obs. O pipeline dá no final as imagens em ordem sequencial. No caso das imagens enviadas, tem uns pulos na numeração, então o número final não é o mesmo da imagem inicial."
   ]
  },
  {
   "cell_type": "markdown",
   "metadata": {},
   "source": [
    "## 2) COISAS PARA FAZER MANUALMENTE\n"
   ]
  },
  {
   "cell_type": "markdown",
   "metadata": {},
   "source": [
    "A idéia desse pipeline é ser o mais automático possível. Então aqui vai ficar o que deve ser\n",
    "feito pra rodá-lo. "
   ]
  },
  {
   "cell_type": "markdown",
   "metadata": {},
   "source": [
    "1) Mudar os caminhos: esse pipeline utiliza 5 pastas para guardar as imagens, e duas imagens (master bias e master flat normalizado) ficam na raíz, no mesmo lugar que esse código. Assim temos:\n",
    "\n",
    "path_imagens_originais: caminho onde estão as imagens originais das imagens de ciência, flats e bias. <br>\n",
    "path_ciencia_biasred: caminho onde estão as imagens de ciência subtraídas do master bias. <br>\n",
    "path_flat_biasred: caminho onde estão as imagens flats reduzidas do master bias. <br>\n",
    "path_flat_biasred_normalizados: caminho onde estão as imagens flats reduzidas do master bias e normalizadas. <br>\n",
    "path_ciencia_corrigidas: caminho onde estão as imagens de ciência subtraídas do master bias e divididas pelo master flat normalizado. <br>\n",
    "\n",
    "A célula abaixo apresenta os caminhos, basta alterar."
   ]
  },
  {
   "cell_type": "code",
   "execution_count": 14,
   "metadata": {},
   "outputs": [],
   "source": [
    "path_imagens_originais='/home/fabio/Faculdade/Tratamento de Dados/Projeto/rep1/imagens_originais/xo2b/'\n",
    "path_ciencia_biasred = '/home/fabio/Faculdade/Tratamento de Dados/Projeto/rep1/ciencia_biasred/'\n",
    "path_flat_biasred = '/home/fabio/Faculdade/Tratamento de Dados/Projeto/rep1/flats_biasred/'\n",
    "path_flat_biasred_normalizados='/home/fabio/Faculdade/Tratamento de Dados/Projeto/rep1/flats_biasred_normalizados/'\n",
    "path_ciencia_corrigidas = '/home/fabio/Faculdade/Tratamento de Dados/Projeto/rep1/ciencia_finais/'"
   ]
  },
  {
   "cell_type": "markdown",
   "metadata": {},
   "source": [
    "2) Atrelar o tipo de imagem para os filtros de tipo de imagem: para rodar o pipeline, é necessário, classificar as imagens em ciencia, flats ou bias. Essa informação está no header da imagem, porém tanto o campo que informa isso quanto o texto que classifica varia. Assim é necessário delimitar esses filtros de imagens. Abaixo exemplifico o procedimento, inicialmente deve-se ver o header de uma imagem e avaliar qual o campo que traz essa informação. Neste caso foi o campo \" OBJECT\" e a minha imagem de bias está classificada como \"zero\"."
   ]
  },
  {
   "cell_type": "code",
   "execution_count": 19,
   "metadata": {},
   "outputs": [
    {
     "name": "stdout",
     "output_type": "stream",
     "text": [
      "Filename: /home/fabio/Faculdade/Tratamento de Dados/Projeto/rep1/imagens_originais/xo2b/bias.B.0001.fits\n",
      "No.    Name      Ver    Type      Cards   Dimensions   Format\n",
      "  0  PRIMARY       1 PrimaryHDU     143   (1365, 1365)   float32   \n"
     ]
    },
    {
     "data": {
      "text/plain": [
       "SIMPLE  =                    T / Fits standard                                  \n",
       "BITPIX  =                  -32 / Bits per pixel                                 \n",
       "NAXIS   =                    2 / Number of axes                                 \n",
       "NAXIS1  =                 1365 / Axis length                                    \n",
       "NAXIS2  =                 1365 / Axis length                                    \n",
       "EXTEND  =                    F / File may contain extensions                    \n",
       "ORIGIN  = 'NOAO-IRAF FITS Image Kernel July 2003' / FITS file originator        \n",
       "DATE    = '2012-12-09T23:37:41' / Date FITS file was generated                  \n",
       "IRAF-TLM= '2012-12-09T23:38:45' / Time of last modification                     \n",
       "OBJECT  = 'zero    '           / Name of the object observed                    \n",
       "DETSIZE = '[1:4096,1:4096]'    / Detector size                                  \n",
       "CCDSUM  = '3 3     '           / CCD pixel summing                              \n",
       "CCDBIN1 =                    3 / Binning factor along axis 1                    \n",
       "CCDBIN2 =                    3 / Binning factor along axis 2                    \n",
       "FILENAME= 'bias.B.0001.fits'   / base filename at acquisition                   \n",
       "NCCDS   =                    1 / Number of CCDs                                 \n",
       "NAMPS   =                    2 / Number of amplifiers                           \n",
       "DARKCUR = '0.0     '           / Average dark current (e-/pixel/hour)           \n",
       "DARKTIME=                  0.1 / Dark time (seconds)                            \n",
       "DATE-OBS= '2012-12-09'         / UTC shutter opened                             \n",
       "DETECTOR= 'mont4k sn3088'      / Detector name                                  \n",
       "DETGAIN =                    5 / Video gain setting                             \n",
       "EXPREQ  =                  0.0 / Exposure time requested (seconds)              \n",
       "EXPTIME =                  0.0 / Exposure time (seconds)                        \n",
       "GAIN1   = '3.19    '           / Conversion gain (e-/DN) for amp 1              \n",
       "GAIN2   = '3.08    '           / Conversion gain (e-/DN) for amp 2              \n",
       "IMAGETYP= 'zero    '           / Image type                                     \n",
       "INSTRUME= 'mont4k  '           / Instrument name                                \n",
       "LOCTIME = '16:37:24'           / Local time at start of exposure                \n",
       "OBSERVAT= 'mtbigelow'          / Observatory                                    \n",
       "OBSERVER= 'Turner Teske'                                                        \n",
       "PCIFILE = 'pci2.lod'           / PCI board DSP code filename                    \n",
       "PIXSCAL1= '0.15    '           / Pixel scale for axis 1 (arcsec/unbinned pixel) \n",
       "PIXSCAL2= '0.15    '           / Pixel scale for axis 2 (arcsec/unbinned pixel) \n",
       "PIXSIZE1= '15.0    '           / Pixel size for axis 1 (microns)                \n",
       "PIXSIZE2= '15.0    '           / Pixel size for axis 2 (microns)                \n",
       "RDNOISE1= '6.3     '           / Read noise (electrons) for amp 1               \n",
       "RDNOISE2= '6.7     '           / Read noise (electrons) for amp 2               \n",
       "SITEELEV= '2510    '           / Altitude (meters)                              \n",
       "SITELAT = '32:24:59.3'         / Latitude (DD:MM:SS.S North)                    \n",
       "SITELONG= '110:44:04.3'        / Longitude (DD:MM:SS.S West)                    \n",
       "TELESCOP= 'bigelow-1.55m'      / Telescope name                                 \n",
       "TIME-OBS= '23:37:24.740'       / UTC at start of exposure                       \n",
       "TIMESYS = 'UTC     '           / Time system                                    \n",
       "TIMEZONE=                    7 / Local time zone                                \n",
       "TIMFILE = 'tim2_split.lod'     / Timing board DSP code filename                 \n",
       "UT      = '23:37:24.740'       / UTC at start of exposure                       \n",
       "UTC-OBS = '23:37:24.740'       / UTC at start of exposure                       \n",
       "UTILFILE= 'util2.lod'          / Utility board DSP code filename                \n",
       "VIDGAIN =                    5 / Video gain setting                             \n",
       "VIDSPEED=                    1 / Video speed setting                            \n",
       "ITL-HEAD= 'OK      '           / ITL Header flag                                \n",
       "N-AMPS-X=                    2 / Number of amplifiers in X                      \n",
       "N-AMPS-Y=                    1 / Number of amplifiers in Y                      \n",
       "N-DET-X =                    1 / Number of detectors in X                       \n",
       "N-DET-Y =                    1 / Number of detectors in Y                       \n",
       "NUM-AMPX=                    2 / Number of amplifiers in X                      \n",
       "NUM-AMPY=                    1 / Number of amplifiers in Y                      \n",
       "NUM-DETX=                    1 / Number of detectors in X                       \n",
       "NUM-DETY=                    1 / Number of detectors in Y                       \n",
       "REF-PIX1=                 2048 / Reference pixel 1                              \n",
       "REF-PIX2=                 2048 / Reference pixel 2                              \n",
       "SYS-MOD = '' / System module                                                    \n",
       "CAMTEMP =               -119.0 / Camera temperature in C                        \n",
       "DEWTEMP =               -197.0 / Dewar temperature in C                         \n",
       "XTKCOEF =          2.600000E-4                                                  \n",
       "BUNIT   = 'ADU     '           / Physical unit of array values                  \n",
       "COMMENT Image                                                                   \n",
       "CCDSIZE = '[1:4096,1:4096]'    / CCD size                                       \n",
       "AMPSEC  = '[1:4095,1:4095]'    / Amplifier section                              \n",
       "DETSEC  = '[1:4095,1:4095]'    / Detector section                               \n",
       "CCDSEC  = '[1:4095,1:4095]'    / CCD section                                    \n",
       "CCDSEC1 = '[1:683,1:1366]'     / CCD section with binning                       \n",
       "OVRSCAN1=                   20 / Overscan on axis 1                             \n",
       "OVRSCAN2=                    0 / Overscan on axis 2                             \n",
       "PRESCAN1=                    0 / Underscan on axis 1                            \n",
       "PRESCAN2=                    0 / Underscan on axis 2                            \n",
       "LTM1_1  =   0.3333333432674408 / CCD to image transformation                    \n",
       "LTM2_2  =   0.3333333432674408 / CCD to image transformation                    \n",
       "LTV1    =    0.333333343267441 / CCD to image transformation                    \n",
       "LTV2    =    0.333333313465118 / CCD to image transformation                    \n",
       "ATM1_1  =                    1 / CCD to amplifier transformation                \n",
       "ATM2_2  =                    1 / CCD to amplifier transformation                \n",
       "ATV1    =                    0 / CCD to amplifier transformation                \n",
       "ATV2    =                    0 / CCD to amplifier transformation                \n",
       "DTM1_1  =                    1 / CCD to detector transformation                 \n",
       "DTM2_2  =                    1 / CCD to detector transformation                 \n",
       "DTV1    =                    0 / CCD to detector transformation                 \n",
       "DTV2    =                    0 / CCD to detector transformation                 \n",
       "COMMENT WCS                                                                     \n",
       "EQUINOX =                 2000 / Equinox of WCS                                 \n",
       "WCSDIM  =                    2 / WCS Dimensionality                             \n",
       "CTYPE1  = 'RA---TNX'           / Coordinate type                                \n",
       "CTYPE2  = 'DEC--TNX'           / Coordinate type                                \n",
       "CRPIX1  =     682.333333343267 / Coordinate reference pixel                     \n",
       "CRPIX2  =     682.333333313465 / Coordinate reference pixel                     \n",
       "CD1_1   =          0.000119166 / Coordinate matrix                              \n",
       "CD2_2   =          0.000119166 / Coordinate matrix                              \n",
       "AMP-CFG =                    0 / Amplifier configuration                        \n",
       "DET-NUM =                    1 / Detector number                                \n",
       "EXT-NUM =                    1 / Extension number                               \n",
       "JPG-EXT =                    1 / Image section                                  \n",
       "DET-POSX=                    1 / Detector position in X                         \n",
       "DET-POSY=                    1 / Detector position in Y                         \n",
       "EXT-POSX=                    1 / Amplifier position in X                        \n",
       "EXT-POSY=                    1 / Amplifier position in Y                        \n",
       "AMP-PIX1=                    1 / Amplifier pixel position in X                  \n",
       "AMP-PIX2=                    1 / Amplifier pixel position in Y                  \n",
       "CDELT1  =  1.19166000000000E-4                                                  \n",
       "CDELT2  =  1.19166000000000E-4                                                  \n",
       "WAT0_001= 'system=image'                                                        \n",
       "WAT1_001= 'wtype=tnx axtype=ra'                                                 \n",
       "WAT2_001= 'wtype=tnx axtype=dec'                                                \n",
       "TRIM    = '[1:682,1:1365]'                                                      \n",
       "OVERSCAN= '[688:702,1:1365]'                                                    \n",
       "OVSCMED1=              926.872                                                  \n",
       "OVSCMED2=             917.9893                                                  \n",
       "                                                                                \n",
       "                                                                                \n",
       "                                                                                \n",
       "                                                                                \n",
       "                                                                                \n",
       "                                                                                \n",
       "                                                                                \n",
       "                                                                                \n",
       "                                                                                \n",
       "                                                                                \n",
       "                                                                                \n",
       "                                                                                \n",
       "                                                                                \n",
       "                                                                                \n",
       "                                                                                \n",
       "                                                                                \n",
       "                                                                                \n",
       "                                                                                \n",
       "                                                                                \n",
       "                                                                                \n",
       "                                                                                \n",
       "                                                                                \n",
       "                                                                                \n",
       "                                                                                \n",
       "                                                                                \n",
       "                                                                                "
      ]
     },
     "execution_count": 19,
     "metadata": {},
     "output_type": "execute_result"
    }
   ],
   "source": [
    "# Lendo uma imagem\n",
    "\n",
    "img,hdr=fits.getdata(path_imagens_originais + 'bias.B.0001.fits',header=True)\n",
    "\n",
    "# Pegando informações do header\n",
    "\n",
    "hdul=fits.open(path_imagens_originais + 'bias.B.0001.fits')\n",
    "\n",
    "hdul.info()\n",
    "\n",
    "hdul[0].header"
   ]
  },
  {
   "cell_type": "code",
   "execution_count": 20,
   "metadata": {},
   "outputs": [],
   "source": [
    "hdul.close()"
   ]
  },
  {
   "cell_type": "markdown",
   "metadata": {},
   "source": [
    "2.1) Feito isso, deve-se abrir uma imagem de cada tipo, já sabemos que neste caso as imagens de bias estão como \"zero\", vou fazer o mesmo para outras duas imagens e ver seus tipos. em vez de abrir o header todo, agora vou direto ao tipo \"OBJECT\"."
   ]
  },
  {
   "cell_type": "code",
   "execution_count": 21,
   "metadata": {},
   "outputs": [
    {
     "name": "stdout",
     "output_type": "stream",
     "text": [
      "flat\n",
      "XO-2b\n"
     ]
    }
   ],
   "source": [
    "# FLATS\n",
    "\n",
    "hdul=fits.open('/home/fabio/Faculdade/Tratamento de Dados/Projeto/rep1/imagens_originais/xo2b/flat.B.0001.fits')\n",
    "print(hdul[0].header['Object'])\n",
    "\n",
    "# Lights\n",
    "\n",
    "hdul=fits.open('/home/fabio/Faculdade/Tratamento de Dados/Projeto/rep1/imagens_originais/xo2b/xo2b.0002.fits')\n",
    "print(hdul[0].header['Object'])\n"
   ]
  },
  {
   "cell_type": "code",
   "execution_count": 41,
   "metadata": {},
   "outputs": [],
   "source": [
    "hdul.close()"
   ]
  },
  {
   "cell_type": "markdown",
   "metadata": {},
   "source": [
    "2.2) Como podemos ver, temos então que minhas imagens de bias estão como \"zero\", as de ciência como \"X0-2b\" e as flats como \"flat\". Na célula abaixo defino então qual o nome do campo do header que pede isso, assim como o nome da classificação de cada tipo de imagem. "
   ]
  },
  {
   "cell_type": "code",
   "execution_count": 23,
   "metadata": {},
   "outputs": [],
   "source": [
    "tipo='Object'\n",
    "flat='flat'\n",
    "bias='zero'\n",
    "ciencia='XO-2b'"
   ]
  },
  {
   "cell_type": "markdown",
   "metadata": {},
   "source": [
    "2.3) Pronto, com essas informações, as linhas de código abaixo gerarão as imagens de ciência. Importante destacar que este código não substitui imagens existentes, ou seja, caso determinada etapa gere um conjunto de imagens, e o processo se repita, dará erro. "
   ]
  },
  {
   "cell_type": "markdown",
   "metadata": {},
   "source": [
    "## 3) CRIANDO LISTAS DE IMAGENS"
   ]
  },
  {
   "cell_type": "code",
   "execution_count": 30,
   "metadata": {},
   "outputs": [
    {
     "name": "stdout",
     "output_type": "stream",
     "text": [
      "/home/fabio/Faculdade/Tratamento de Dados/Projeto/rep1/imagens_originais/xo2b/xo2b.0032.fits\n",
      "/home/fabio/Faculdade/Tratamento de Dados/Projeto/rep1/imagens_originais/xo2b/xo2b.0038.fits\n",
      "/home/fabio/Faculdade/Tratamento de Dados/Projeto/rep1/imagens_originais/xo2b/xo2b.0098.fits\n",
      "/home/fabio/Faculdade/Tratamento de Dados/Projeto/rep1/imagens_originais/xo2b/xo2b.0226.fits\n",
      "/home/fabio/Faculdade/Tratamento de Dados/Projeto/rep1/imagens_originais/xo2b/xo2b.0100.fits\n",
      "/home/fabio/Faculdade/Tratamento de Dados/Projeto/rep1/imagens_originais/xo2b/xo2b.0194.fits\n",
      "/home/fabio/Faculdade/Tratamento de Dados/Projeto/rep1/imagens_originais/xo2b/flat.B.0010.fits\n",
      "/home/fabio/Faculdade/Tratamento de Dados/Projeto/rep1/imagens_originais/xo2b/bias.B.0001.fits\n",
      "/home/fabio/Faculdade/Tratamento de Dados/Projeto/rep1/imagens_originais/xo2b/flat.B.0001.fits\n",
      "/home/fabio/Faculdade/Tratamento de Dados/Projeto/rep1/imagens_originais/xo2b/xo2b.0260.fits\n",
      "/home/fabio/Faculdade/Tratamento de Dados/Projeto/rep1/imagens_originais/xo2b/xo2b.0004.fits\n",
      "/home/fabio/Faculdade/Tratamento de Dados/Projeto/rep1/imagens_originais/xo2b/xo2b.0242.fits\n",
      "/home/fabio/Faculdade/Tratamento de Dados/Projeto/rep1/imagens_originais/xo2b/xo2b.0084.fits\n",
      "/home/fabio/Faculdade/Tratamento de Dados/Projeto/rep1/imagens_originais/xo2b/flat.B.0006.fits\n",
      "/home/fabio/Faculdade/Tratamento de Dados/Projeto/rep1/imagens_originais/xo2b/xo2b.0102.fits\n",
      "/home/fabio/Faculdade/Tratamento de Dados/Projeto/rep1/imagens_originais/xo2b/xo2b.0116.fits\n",
      "/home/fabio/Faculdade/Tratamento de Dados/Projeto/rep1/imagens_originais/xo2b/xo2b.0012.fits\n",
      "/home/fabio/Faculdade/Tratamento de Dados/Projeto/rep1/imagens_originais/xo2b/xo2b.0086.fits\n",
      "/home/fabio/Faculdade/Tratamento de Dados/Projeto/rep1/imagens_originais/xo2b/xo2b.0206.fits\n",
      "/home/fabio/Faculdade/Tratamento de Dados/Projeto/rep1/imagens_originais/xo2b/xo2b.0128.fits\n",
      "/home/fabio/Faculdade/Tratamento de Dados/Projeto/rep1/imagens_originais/xo2b/xo2b.0214.fits\n",
      "/home/fabio/Faculdade/Tratamento de Dados/Projeto/rep1/imagens_originais/xo2b/xo2b.0196.fits\n",
      "/home/fabio/Faculdade/Tratamento de Dados/Projeto/rep1/imagens_originais/xo2b/xo2b.0184.fits\n",
      "/home/fabio/Faculdade/Tratamento de Dados/Projeto/rep1/imagens_originais/xo2b/xo2b.0108.fits\n",
      "/home/fabio/Faculdade/Tratamento de Dados/Projeto/rep1/imagens_originais/xo2b/xo2b.0018.fits\n",
      "/home/fabio/Faculdade/Tratamento de Dados/Projeto/rep1/imagens_originais/xo2b/flat.B.0009.fits\n",
      "/home/fabio/Faculdade/Tratamento de Dados/Projeto/rep1/imagens_originais/xo2b/xo2b.0132.fits\n",
      "/home/fabio/Faculdade/Tratamento de Dados/Projeto/rep1/imagens_originais/xo2b/xo2b.0170.fits\n",
      "/home/fabio/Faculdade/Tratamento de Dados/Projeto/rep1/imagens_originais/xo2b/xo2b.0066.fits\n",
      "/home/fabio/Faculdade/Tratamento de Dados/Projeto/rep1/imagens_originais/xo2b/xo2b.0150.fits\n",
      "/home/fabio/Faculdade/Tratamento de Dados/Projeto/rep1/imagens_originais/xo2b/xo2b.0082.fits\n",
      "/home/fabio/Faculdade/Tratamento de Dados/Projeto/rep1/imagens_originais/xo2b/xo2b.0110.fits\n",
      "/home/fabio/Faculdade/Tratamento de Dados/Projeto/rep1/imagens_originais/xo2b/xo2b.0026.fits\n",
      "/home/fabio/Faculdade/Tratamento de Dados/Projeto/rep1/imagens_originais/xo2b/xo2b.0198.fits\n",
      "/home/fabio/Faculdade/Tratamento de Dados/Projeto/rep1/imagens_originais/xo2b/xo2b.0190.fits\n",
      "/home/fabio/Faculdade/Tratamento de Dados/Projeto/rep1/imagens_originais/xo2b/xo2b.0076.fits\n",
      "/home/fabio/Faculdade/Tratamento de Dados/Projeto/rep1/imagens_originais/xo2b/xo2b.0254.fits\n",
      "/home/fabio/Faculdade/Tratamento de Dados/Projeto/rep1/imagens_originais/xo2b/xo2b.0262.fits\n",
      "/home/fabio/Faculdade/Tratamento de Dados/Projeto/rep1/imagens_originais/xo2b/xo2b.0250.fits\n",
      "/home/fabio/Faculdade/Tratamento de Dados/Projeto/rep1/imagens_originais/xo2b/xo2b.0106.fits\n",
      "/home/fabio/Faculdade/Tratamento de Dados/Projeto/rep1/imagens_originais/xo2b/xo2b.0210.fits\n",
      "/home/fabio/Faculdade/Tratamento de Dados/Projeto/rep1/imagens_originais/xo2b/xo2b.0232.fits\n",
      "/home/fabio/Faculdade/Tratamento de Dados/Projeto/rep1/imagens_originais/xo2b/xo2b.0234.fits\n",
      "/home/fabio/Faculdade/Tratamento de Dados/Projeto/rep1/imagens_originais/xo2b/xo2b.0006.fits\n",
      "/home/fabio/Faculdade/Tratamento de Dados/Projeto/rep1/imagens_originais/xo2b/xo2b.0142.fits\n",
      "/home/fabio/Faculdade/Tratamento de Dados/Projeto/rep1/imagens_originais/xo2b/bias.B.0002.fits\n",
      "/home/fabio/Faculdade/Tratamento de Dados/Projeto/rep1/imagens_originais/xo2b/xo2b.0148.fits\n",
      "/home/fabio/Faculdade/Tratamento de Dados/Projeto/rep1/imagens_originais/xo2b/xo2b.0144.fits\n",
      "/home/fabio/Faculdade/Tratamento de Dados/Projeto/rep1/imagens_originais/xo2b/xo2b.0064.fits\n",
      "/home/fabio/Faculdade/Tratamento de Dados/Projeto/rep1/imagens_originais/xo2b/bias.B.0005.fits\n",
      "/home/fabio/Faculdade/Tratamento de Dados/Projeto/rep1/imagens_originais/xo2b/xo2b.0016.fits\n",
      "/home/fabio/Faculdade/Tratamento de Dados/Projeto/rep1/imagens_originais/xo2b/xo2b.0060.fits\n",
      "/home/fabio/Faculdade/Tratamento de Dados/Projeto/rep1/imagens_originais/xo2b/xo2b.0188.fits\n",
      "/home/fabio/Faculdade/Tratamento de Dados/Projeto/rep1/imagens_originais/xo2b/xo2b.0088.fits\n",
      "/home/fabio/Faculdade/Tratamento de Dados/Projeto/rep1/imagens_originais/xo2b/xo2b.0104.fits\n",
      "/home/fabio/Faculdade/Tratamento de Dados/Projeto/rep1/imagens_originais/xo2b/xo2b.0154.fits\n",
      "/home/fabio/Faculdade/Tratamento de Dados/Projeto/rep1/imagens_originais/xo2b/xo2b.0020.fits\n",
      "/home/fabio/Faculdade/Tratamento de Dados/Projeto/rep1/imagens_originais/xo2b/xo2b.0034.fits\n",
      "/home/fabio/Faculdade/Tratamento de Dados/Projeto/rep1/imagens_originais/xo2b/xo2b.0236.fits\n",
      "/home/fabio/Faculdade/Tratamento de Dados/Projeto/rep1/imagens_originais/xo2b/xo2b.0200.fits\n",
      "/home/fabio/Faculdade/Tratamento de Dados/Projeto/rep1/imagens_originais/xo2b/xo2b.0096.fits\n",
      "/home/fabio/Faculdade/Tratamento de Dados/Projeto/rep1/imagens_originais/xo2b/xo2b.0264.fits\n",
      "/home/fabio/Faculdade/Tratamento de Dados/Projeto/rep1/imagens_originais/xo2b/xo2b.0090.fits\n",
      "/home/fabio/Faculdade/Tratamento de Dados/Projeto/rep1/imagens_originais/xo2b/flat.B.0003.fits\n",
      "/home/fabio/Faculdade/Tratamento de Dados/Projeto/rep1/imagens_originais/xo2b/xo2b.0056.fits\n",
      "/home/fabio/Faculdade/Tratamento de Dados/Projeto/rep1/imagens_originais/xo2b/xo2b.0178.fits\n",
      "/home/fabio/Faculdade/Tratamento de Dados/Projeto/rep1/imagens_originais/xo2b/xo2b.0130.fits\n",
      "/home/fabio/Faculdade/Tratamento de Dados/Projeto/rep1/imagens_originais/xo2b/bias.B.0010.fits\n",
      "/home/fabio/Faculdade/Tratamento de Dados/Projeto/rep1/imagens_originais/xo2b/xo2b.0228.fits\n",
      "/home/fabio/Faculdade/Tratamento de Dados/Projeto/rep1/imagens_originais/xo2b/xo2b.0182.fits\n",
      "/home/fabio/Faculdade/Tratamento de Dados/Projeto/rep1/imagens_originais/xo2b/xo2b.0240.fits\n",
      "/home/fabio/Faculdade/Tratamento de Dados/Projeto/rep1/imagens_originais/xo2b/xo2b.0112.fits\n",
      "/home/fabio/Faculdade/Tratamento de Dados/Projeto/rep1/imagens_originais/xo2b/xo2b.0030.fits\n",
      "/home/fabio/Faculdade/Tratamento de Dados/Projeto/rep1/imagens_originais/xo2b/xo2b.0204.fits\n",
      "/home/fabio/Faculdade/Tratamento de Dados/Projeto/rep1/imagens_originais/xo2b/xo2b.0024.fits\n",
      "/home/fabio/Faculdade/Tratamento de Dados/Projeto/rep1/imagens_originais/xo2b/xo2b.0122.fits\n",
      "/home/fabio/Faculdade/Tratamento de Dados/Projeto/rep1/imagens_originais/xo2b/xo2b.0078.fits\n",
      "/home/fabio/Faculdade/Tratamento de Dados/Projeto/rep1/imagens_originais/xo2b/xo2b.0180.fits\n",
      "/home/fabio/Faculdade/Tratamento de Dados/Projeto/rep1/imagens_originais/xo2b/xo2b.0140.fits\n",
      "/home/fabio/Faculdade/Tratamento de Dados/Projeto/rep1/imagens_originais/xo2b/xo2b.0114.fits\n",
      "/home/fabio/Faculdade/Tratamento de Dados/Projeto/rep1/imagens_originais/xo2b/xo2b.0094.fits\n",
      "/home/fabio/Faculdade/Tratamento de Dados/Projeto/rep1/imagens_originais/xo2b/xo2b.0218.fits\n",
      "/home/fabio/Faculdade/Tratamento de Dados/Projeto/rep1/imagens_originais/xo2b/xo2b.0246.fits\n",
      "/home/fabio/Faculdade/Tratamento de Dados/Projeto/rep1/imagens_originais/xo2b/xo2b.0192.fits\n",
      "/home/fabio/Faculdade/Tratamento de Dados/Projeto/rep1/imagens_originais/xo2b/xo2b.0028.fits\n",
      "/home/fabio/Faculdade/Tratamento de Dados/Projeto/rep1/imagens_originais/xo2b/xo2b.0238.fits\n",
      "/home/fabio/Faculdade/Tratamento de Dados/Projeto/rep1/imagens_originais/xo2b/xo2b.0162.fits\n",
      "/home/fabio/Faculdade/Tratamento de Dados/Projeto/rep1/imagens_originais/xo2b/flat.B.0002.fits\n",
      "/home/fabio/Faculdade/Tratamento de Dados/Projeto/rep1/imagens_originais/xo2b/xo2b.0212.fits\n",
      "/home/fabio/Faculdade/Tratamento de Dados/Projeto/rep1/imagens_originais/xo2b/xo2b.0036.fits\n",
      "/home/fabio/Faculdade/Tratamento de Dados/Projeto/rep1/imagens_originais/xo2b/xo2b.0046.fits\n",
      "/home/fabio/Faculdade/Tratamento de Dados/Projeto/rep1/imagens_originais/xo2b/bias.B.0003.fits\n",
      "/home/fabio/Faculdade/Tratamento de Dados/Projeto/rep1/imagens_originais/xo2b/flat.B.0007.fits\n",
      "/home/fabio/Faculdade/Tratamento de Dados/Projeto/rep1/imagens_originais/xo2b/xo2b.0166.fits\n",
      "/home/fabio/Faculdade/Tratamento de Dados/Projeto/rep1/imagens_originais/xo2b/xo2b.0138.fits\n",
      "/home/fabio/Faculdade/Tratamento de Dados/Projeto/rep1/imagens_originais/xo2b/bias.B.0009.fits\n",
      "/home/fabio/Faculdade/Tratamento de Dados/Projeto/rep1/imagens_originais/xo2b/xo2b.0256.fits\n",
      "/home/fabio/Faculdade/Tratamento de Dados/Projeto/rep1/imagens_originais/xo2b/xo2b.0068.fits\n",
      "/home/fabio/Faculdade/Tratamento de Dados/Projeto/rep1/imagens_originais/xo2b/xo2b.0208.fits\n",
      "/home/fabio/Faculdade/Tratamento de Dados/Projeto/rep1/imagens_originais/xo2b/flat.B.0008.fits\n",
      "/home/fabio/Faculdade/Tratamento de Dados/Projeto/rep1/imagens_originais/xo2b/xo2b.0022.fits\n",
      "/home/fabio/Faculdade/Tratamento de Dados/Projeto/rep1/imagens_originais/xo2b/xo2b.0124.fits\n",
      "/home/fabio/Faculdade/Tratamento de Dados/Projeto/rep1/imagens_originais/xo2b/xo2b.0010.fits\n",
      "/home/fabio/Faculdade/Tratamento de Dados/Projeto/rep1/imagens_originais/xo2b/flat.B.0005.fits\n",
      "/home/fabio/Faculdade/Tratamento de Dados/Projeto/rep1/imagens_originais/xo2b/xo2b.0118.fits\n",
      "/home/fabio/Faculdade/Tratamento de Dados/Projeto/rep1/imagens_originais/xo2b/xo2b.0146.fits\n",
      "/home/fabio/Faculdade/Tratamento de Dados/Projeto/rep1/imagens_originais/xo2b/bias.B.0004.fits\n",
      "/home/fabio/Faculdade/Tratamento de Dados/Projeto/rep1/imagens_originais/xo2b/xo2b.0008.fits\n",
      "/home/fabio/Faculdade/Tratamento de Dados/Projeto/rep1/imagens_originais/xo2b/xo2b.0156.fits\n",
      "/home/fabio/Faculdade/Tratamento de Dados/Projeto/rep1/imagens_originais/xo2b/xo2b.0134.fits\n",
      "/home/fabio/Faculdade/Tratamento de Dados/Projeto/rep1/imagens_originais/xo2b/xo2b.0158.fits\n",
      "/home/fabio/Faculdade/Tratamento de Dados/Projeto/rep1/imagens_originais/xo2b/xo2b.0248.fits\n",
      "/home/fabio/Faculdade/Tratamento de Dados/Projeto/rep1/imagens_originais/xo2b/xo2b.0136.fits\n",
      "/home/fabio/Faculdade/Tratamento de Dados/Projeto/rep1/imagens_originais/xo2b/xo2b.0216.fits\n",
      "/home/fabio/Faculdade/Tratamento de Dados/Projeto/rep1/imagens_originais/xo2b/xo2b.0072.fits\n",
      "/home/fabio/Faculdade/Tratamento de Dados/Projeto/rep1/imagens_originais/xo2b/xo2b.0126.fits\n",
      "/home/fabio/Faculdade/Tratamento de Dados/Projeto/rep1/imagens_originais/xo2b/xo2b.0152.fits\n",
      "/home/fabio/Faculdade/Tratamento de Dados/Projeto/rep1/imagens_originais/xo2b/xo2b.0074.fits\n",
      "/home/fabio/Faculdade/Tratamento de Dados/Projeto/rep1/imagens_originais/xo2b/xo2b.0044.fits\n",
      "/home/fabio/Faculdade/Tratamento de Dados/Projeto/rep1/imagens_originais/xo2b/bias.B.0006.fits\n",
      "/home/fabio/Faculdade/Tratamento de Dados/Projeto/rep1/imagens_originais/xo2b/xo2b.0092.fits\n",
      "/home/fabio/Faculdade/Tratamento de Dados/Projeto/rep1/imagens_originais/xo2b/xo2b.0176.fits\n",
      "/home/fabio/Faculdade/Tratamento de Dados/Projeto/rep1/imagens_originais/xo2b/bias.B.0007.fits\n",
      "/home/fabio/Faculdade/Tratamento de Dados/Projeto/rep1/imagens_originais/xo2b/xo2b.0172.fits\n",
      "/home/fabio/Faculdade/Tratamento de Dados/Projeto/rep1/imagens_originais/xo2b/xo2b.0048.fits\n",
      "/home/fabio/Faculdade/Tratamento de Dados/Projeto/rep1/imagens_originais/xo2b/xo2b.0186.fits\n",
      "/home/fabio/Faculdade/Tratamento de Dados/Projeto/rep1/imagens_originais/xo2b/xo2b.0164.fits\n",
      "/home/fabio/Faculdade/Tratamento de Dados/Projeto/rep1/imagens_originais/xo2b/flat.B.0004.fits\n",
      "/home/fabio/Faculdade/Tratamento de Dados/Projeto/rep1/imagens_originais/xo2b/xo2b.0058.fits\n",
      "/home/fabio/Faculdade/Tratamento de Dados/Projeto/rep1/imagens_originais/xo2b/xo2b.0168.fits\n",
      "/home/fabio/Faculdade/Tratamento de Dados/Projeto/rep1/imagens_originais/xo2b/xo2b.0120.fits\n",
      "/home/fabio/Faculdade/Tratamento de Dados/Projeto/rep1/imagens_originais/xo2b/xo2b.0054.fits\n",
      "/home/fabio/Faculdade/Tratamento de Dados/Projeto/rep1/imagens_originais/xo2b/xo2b.0052.fits\n",
      "/home/fabio/Faculdade/Tratamento de Dados/Projeto/rep1/imagens_originais/xo2b/xo2b.0160.fits\n",
      "/home/fabio/Faculdade/Tratamento de Dados/Projeto/rep1/imagens_originais/xo2b/xo2b.0040.fits\n",
      "/home/fabio/Faculdade/Tratamento de Dados/Projeto/rep1/imagens_originais/xo2b/xo2b.0050.fits\n",
      "/home/fabio/Faculdade/Tratamento de Dados/Projeto/rep1/imagens_originais/xo2b/xo2b.0230.fits\n",
      "/home/fabio/Faculdade/Tratamento de Dados/Projeto/rep1/imagens_originais/xo2b/xo2b.0002.fits\n",
      "/home/fabio/Faculdade/Tratamento de Dados/Projeto/rep1/imagens_originais/xo2b/xo2b.0014.fits\n",
      "/home/fabio/Faculdade/Tratamento de Dados/Projeto/rep1/imagens_originais/xo2b/bias.B.0008.fits\n",
      "/home/fabio/Faculdade/Tratamento de Dados/Projeto/rep1/imagens_originais/xo2b/xo2b.0070.fits\n",
      "/home/fabio/Faculdade/Tratamento de Dados/Projeto/rep1/imagens_originais/xo2b/xo2b.0220.fits\n",
      "/home/fabio/Faculdade/Tratamento de Dados/Projeto/rep1/imagens_originais/xo2b/xo2b.0080.fits\n",
      "/home/fabio/Faculdade/Tratamento de Dados/Projeto/rep1/imagens_originais/xo2b/xo2b.0174.fits\n",
      "/home/fabio/Faculdade/Tratamento de Dados/Projeto/rep1/imagens_originais/xo2b/xo2b.0062.fits\n",
      "/home/fabio/Faculdade/Tratamento de Dados/Projeto/rep1/imagens_originais/xo2b/xo2b.0042.fits\n",
      "/home/fabio/Faculdade/Tratamento de Dados/Projeto/rep1/imagens_originais/xo2b/xo2b.0202.fits\n",
      "/home/fabio/Faculdade/Tratamento de Dados/Projeto/rep1/imagens_originais/xo2b/xo2b.0258.fits\n",
      "/home/fabio/Faculdade/Tratamento de Dados/Projeto/rep1/imagens_originais/xo2b/xo2b.0224.fits\n",
      "/home/fabio/Faculdade/Tratamento de Dados/Projeto/rep1/imagens_originais/xo2b/xo2b.0244.fits\n",
      "/home/fabio/Faculdade/Tratamento de Dados/Projeto/rep1/imagens_originais/xo2b/xo2b.0222.fits\n",
      "/home/fabio/Faculdade/Tratamento de Dados/Projeto/rep1/imagens_originais/xo2b/xo2b.0252.fits\n",
      "/home/fabio/Faculdade/Tratamento de Dados/Projeto/rep1/imagens_originais/xo2b/xo2b.0266.fits\n"
     ]
    }
   ],
   "source": [
    "# Usando o glob pra ler todos os arquivos na pasta\n",
    "\n",
    "files = [f for f in glob.glob(path_imagens_originais + \"/*.fits\", recursive=True)]\n",
    "\n",
    "for f in files:\n",
    "    print(f)\n",
    "    \n",
    "# Repare que nesse caso se quisesse avaliar pelo nome só, poderia usar o glob direto aqui \n",
    "#pra já fechar essas listas, mas isso só se o tipo de objeto estivesse no nome da imagem.\n",
    "# Como a idéia aqui é fazer algo geral, não farei desse jeito."
   ]
  },
  {
   "cell_type": "code",
   "execution_count": 31,
   "metadata": {},
   "outputs": [
    {
     "data": {
      "text/plain": [
       "list"
      ]
     },
     "execution_count": 31,
     "metadata": {},
     "output_type": "execute_result"
    }
   ],
   "source": [
    "#Avaliando o tipo de objeto que é essa lista de imagens\n",
    "\n",
    "type(files)"
   ]
  },
  {
   "cell_type": "code",
   "execution_count": 32,
   "metadata": {},
   "outputs": [],
   "source": [
    "# Criando listas vazias pros 3 tipos\n",
    "\n",
    "biasfiles=list()\n",
    "flatfiles=list()\n",
    "lightfiles=list()"
   ]
  },
  {
   "cell_type": "code",
   "execution_count": 33,
   "metadata": {},
   "outputs": [],
   "source": [
    "# Sub-dividindo a lista files nos 3 tipos, lembrando de fechar pra poupar processamento.\n",
    "\n",
    "for f in files:\n",
    "    hdul=fits.open(f)\n",
    "    if (hdul[0].header[tipo]==bias):   \n",
    "        biasfiles.append(f)\n",
    "        hdul.close()\n",
    "    else:\n",
    "        if (hdul[0].header[tipo]==flat):\n",
    "            flatfiles.append(f)\n",
    "            hdul.close()\n",
    "        else:\n",
    "            lightfiles.append(f)\n",
    "            hdul.close()"
   ]
  },
  {
   "cell_type": "code",
   "execution_count": 34,
   "metadata": {},
   "outputs": [],
   "source": [
    "# Pronto, já tenho minhas listas de imagens, agora uso os comandos abaixo pra fazer um cubo de\n",
    "#dados, assim a primeira dimensão será o número da imagem do tipo em questão, as outras duas \n",
    "#são as dimensões de pixels. Assim temos 3 cubos de dados, um pra cada tipo de imagem\n",
    "\n",
    "biascube = [ fits.getdata(image) for image in biasfiles ]\n",
    "flatcube = [ fits.getdata(image) for image in flatfiles ]\n",
    "lightcube = [ fits.getdata(image) for image in lightfiles ]\n"
   ]
  },
  {
   "cell_type": "markdown",
   "metadata": {},
   "source": [
    "## 4) CRIANDO MASTER BIAS"
   ]
  },
  {
   "cell_type": "code",
   "execution_count": 35,
   "metadata": {},
   "outputs": [
    {
     "name": "stdout",
     "output_type": "stream",
     "text": [
      "10 1365 1365\n"
     ]
    }
   ],
   "source": [
    "# Vendo o total de imagens e de pixels em cada dimensão (não preciso mais, mas deixei aqui)\n",
    "\n",
    "nbias=len(biascube)\n",
    "nbiasprimd=len(biascube[0])\n",
    "nbiassegd=len(biascube[0][0])\n",
    "\n",
    "print(nbias,nbiasprimd,nbiassegd)"
   ]
  },
  {
   "cell_type": "code",
   "execution_count": 36,
   "metadata": {
    "scrolled": true
   },
   "outputs": [],
   "source": [
    "# Tirando a mediana das 10 imagens de bias, achatando meu cubo de dados \n",
    "\n",
    "master_bias=np.median(biascube,axis=0)\n"
   ]
  },
  {
   "cell_type": "code",
   "execution_count": 37,
   "metadata": {},
   "outputs": [
    {
     "data": {
      "text/plain": [
       "(1365, 1365)"
      ]
     },
     "execution_count": 37,
     "metadata": {},
     "output_type": "execute_result"
    }
   ],
   "source": [
    "# Vou checar o tamanho, como pode ver tem 1365 por 1365, tá certo.\n",
    "\n",
    "master_bias.shape"
   ]
  },
  {
   "cell_type": "code",
   "execution_count": 42,
   "metadata": {
    "scrolled": false
   },
   "outputs": [
    {
     "data": {
      "text/plain": [
       "<matplotlib.colorbar.Colorbar at 0x7fd7aa3f2f98>"
      ]
     },
     "execution_count": 42,
     "metadata": {},
     "output_type": "execute_result"
    },
    {
     "data": {
      "image/png": "[encoded data removed]",
      "text/plain": [
       "<Figure size 432x288 with 2 Axes>"
      ]
     },
     "metadata": {},
     "output_type": "display_data"
    }
   ],
   "source": [
    "# Enfim, esse é meu master bias\n",
    "# Estranho estar branco\n",
    "\n",
    "plt.imshow(master_bias,cmap='Greys')\n",
    "plt.colorbar()"
   ]
  },
  {
   "cell_type": "code",
   "execution_count": 43,
   "metadata": {},
   "outputs": [
    {
     "data": {
      "text/plain": [
       "313.63745"
      ]
     },
     "execution_count": 43,
     "metadata": {},
     "output_type": "execute_result"
    }
   ],
   "source": [
    "# Teste (último pixel em ambas dimensões)\n",
    "\n",
    "master_bias[nbiasprimd-1][nbiassegd-1]"
   ]
  },
  {
   "cell_type": "code",
   "execution_count": 45,
   "metadata": {},
   "outputs": [],
   "source": [
    "# Se eu fizer type(master_bias) vou ver que se trata de um numpy array, abaixo crio um arquivo fits com ele.\n",
    "\n",
    "hdu = fits.PrimaryHDU(master_bias)\n",
    "hdul = fits.HDUList([hdu])\n",
    "hdul.writeto('master_bias.fits')\n",
    "hdul.close()"
   ]
  },
  {
   "cell_type": "markdown",
   "metadata": {},
   "source": [
    "## 5) REDUZINDO MASTER BIAS DAS DEMAIS IMAGENS"
   ]
  },
  {
   "cell_type": "code",
   "execution_count": 46,
   "metadata": {},
   "outputs": [],
   "source": [
    "from numpy  import array\n",
    "\n",
    "# PRIMEIRO REDUZO OS FLATS \n",
    "\n",
    "l = locals()\n",
    "cont=1\n",
    "for f in flatfiles:\n",
    "    x=[fits.getdata(image) for image in flatfiles]\n",
    "    img=array(x[cont-1])\n",
    "    img2 = img-master_bias\n",
    "    hdu = fits.PrimaryHDU(img2)\n",
    "    hdul = fits.HDUList([hdu])\n",
    "    hdul.writeto(path_flat_biasred + 'flat_biasred' + str(cont) + '.fits')\n",
    "    hdul.close()    \n",
    "    cont=cont+1\n",
    "    \n",
    "l = locals()\n",
    "cont=1\n",
    "for f in lightfiles:\n",
    "    x=[fits.getdata(image) for image in lightfiles]\n",
    "    img=array(x[cont-1])\n",
    "    img2 = img-master_bias\n",
    "    hdu = fits.PrimaryHDU(img2)\n",
    "    hdul = fits.HDUList([hdu])\n",
    "    hdul.writeto(path_ciencia_biasred + 'light_biasred' + str(cont) + '.fits')\n",
    "    hdul.close()    \n",
    "    cont=cont+1\n",
    "\n",
    "    "
   ]
  },
  {
   "cell_type": "code",
   "execution_count": 47,
   "metadata": {},
   "outputs": [
    {
     "data": {
      "text/plain": [
       "['/home/fabio/Faculdade/Tratamento de Dados/Projeto/rep1/ciencia_biasred/light_biasred36.fits',\n",
       " '/home/fabio/Faculdade/Tratamento de Dados/Projeto/rep1/ciencia_biasred/light_biasred32.fits',\n",
       " '/home/fabio/Faculdade/Tratamento de Dados/Projeto/rep1/ciencia_biasred/light_biasred43.fits',\n",
       " '/home/fabio/Faculdade/Tratamento de Dados/Projeto/rep1/ciencia_biasred/light_biasred128.fits',\n",
       " '/home/fabio/Faculdade/Tratamento de Dados/Projeto/rep1/ciencia_biasred/light_biasred10.fits',\n",
       " '/home/fabio/Faculdade/Tratamento de Dados/Projeto/rep1/ciencia_biasred/light_biasred61.fits',\n",
       " '/home/fabio/Faculdade/Tratamento de Dados/Projeto/rep1/ciencia_biasred/light_biasred56.fits',\n",
       " '/home/fabio/Faculdade/Tratamento de Dados/Projeto/rep1/ciencia_biasred/light_biasred69.fits',\n",
       " '/home/fabio/Faculdade/Tratamento de Dados/Projeto/rep1/ciencia_biasred/light_biasred28.fits',\n",
       " '/home/fabio/Faculdade/Tratamento de Dados/Projeto/rep1/ciencia_biasred/light_biasred20.fits',\n",
       " '/home/fabio/Faculdade/Tratamento de Dados/Projeto/rep1/ciencia_biasred/light_biasred53.fits',\n",
       " '/home/fabio/Faculdade/Tratamento de Dados/Projeto/rep1/ciencia_biasred/light_biasred40.fits',\n",
       " '/home/fabio/Faculdade/Tratamento de Dados/Projeto/rep1/ciencia_biasred/light_biasred97.fits',\n",
       " '/home/fabio/Faculdade/Tratamento de Dados/Projeto/rep1/ciencia_biasred/light_biasred6.fits',\n",
       " '/home/fabio/Faculdade/Tratamento de Dados/Projeto/rep1/ciencia_biasred/light_biasred110.fits',\n",
       " '/home/fabio/Faculdade/Tratamento de Dados/Projeto/rep1/ciencia_biasred/light_biasred45.fits',\n",
       " '/home/fabio/Faculdade/Tratamento de Dados/Projeto/rep1/ciencia_biasred/light_biasred79.fits',\n",
       " '/home/fabio/Faculdade/Tratamento de Dados/Projeto/rep1/ciencia_biasred/light_biasred27.fits',\n",
       " '/home/fabio/Faculdade/Tratamento de Dados/Projeto/rep1/ciencia_biasred/light_biasred109.fits',\n",
       " '/home/fabio/Faculdade/Tratamento de Dados/Projeto/rep1/ciencia_biasred/light_biasred90.fits',\n",
       " '/home/fabio/Faculdade/Tratamento de Dados/Projeto/rep1/ciencia_biasred/light_biasred4.fits',\n",
       " '/home/fabio/Faculdade/Tratamento de Dados/Projeto/rep1/ciencia_biasred/light_biasred115.fits',\n",
       " '/home/fabio/Faculdade/Tratamento de Dados/Projeto/rep1/ciencia_biasred/light_biasred16.fits',\n",
       " '/home/fabio/Faculdade/Tratamento de Dados/Projeto/rep1/ciencia_biasred/light_biasred65.fits',\n",
       " '/home/fabio/Faculdade/Tratamento de Dados/Projeto/rep1/ciencia_biasred/light_biasred59.fits',\n",
       " '/home/fabio/Faculdade/Tratamento de Dados/Projeto/rep1/ciencia_biasred/light_biasred94.fits',\n",
       " '/home/fabio/Faculdade/Tratamento de Dados/Projeto/rep1/ciencia_biasred/light_biasred84.fits',\n",
       " '/home/fabio/Faculdade/Tratamento de Dados/Projeto/rep1/ciencia_biasred/light_biasred103.fits',\n",
       " '/home/fabio/Faculdade/Tratamento de Dados/Projeto/rep1/ciencia_biasred/light_biasred116.fits',\n",
       " '/home/fabio/Faculdade/Tratamento de Dados/Projeto/rep1/ciencia_biasred/light_biasred54.fits',\n",
       " '/home/fabio/Faculdade/Tratamento de Dados/Projeto/rep1/ciencia_biasred/light_biasred42.fits',\n",
       " '/home/fabio/Faculdade/Tratamento de Dados/Projeto/rep1/ciencia_biasred/light_biasred37.fits',\n",
       " '/home/fabio/Faculdade/Tratamento de Dados/Projeto/rep1/ciencia_biasred/light_biasred66.fits',\n",
       " '/home/fabio/Faculdade/Tratamento de Dados/Projeto/rep1/ciencia_biasred/light_biasred58.fits',\n",
       " '/home/fabio/Faculdade/Tratamento de Dados/Projeto/rep1/ciencia_biasred/light_biasred127.fits',\n",
       " '/home/fabio/Faculdade/Tratamento de Dados/Projeto/rep1/ciencia_biasred/light_biasred87.fits',\n",
       " '/home/fabio/Faculdade/Tratamento de Dados/Projeto/rep1/ciencia_biasred/light_biasred120.fits',\n",
       " '/home/fabio/Faculdade/Tratamento de Dados/Projeto/rep1/ciencia_biasred/light_biasred25.fits',\n",
       " '/home/fabio/Faculdade/Tratamento de Dados/Projeto/rep1/ciencia_biasred/light_biasred34.fits',\n",
       " '/home/fabio/Faculdade/Tratamento de Dados/Projeto/rep1/ciencia_biasred/light_biasred2.fits',\n",
       " '/home/fabio/Faculdade/Tratamento de Dados/Projeto/rep1/ciencia_biasred/light_biasred44.fits',\n",
       " '/home/fabio/Faculdade/Tratamento de Dados/Projeto/rep1/ciencia_biasred/light_biasred86.fits',\n",
       " '/home/fabio/Faculdade/Tratamento de Dados/Projeto/rep1/ciencia_biasred/light_biasred101.fits',\n",
       " '/home/fabio/Faculdade/Tratamento de Dados/Projeto/rep1/ciencia_biasred/light_biasred132.fits',\n",
       " '/home/fabio/Faculdade/Tratamento de Dados/Projeto/rep1/ciencia_biasred/light_biasred77.fits',\n",
       " '/home/fabio/Faculdade/Tratamento de Dados/Projeto/rep1/ciencia_biasred/light_biasred125.fits',\n",
       " '/home/fabio/Faculdade/Tratamento de Dados/Projeto/rep1/ciencia_biasred/light_biasred122.fits',\n",
       " '/home/fabio/Faculdade/Tratamento de Dados/Projeto/rep1/ciencia_biasred/light_biasred108.fits',\n",
       " '/home/fabio/Faculdade/Tratamento de Dados/Projeto/rep1/ciencia_biasred/light_biasred85.fits',\n",
       " '/home/fabio/Faculdade/Tratamento de Dados/Projeto/rep1/ciencia_biasred/light_biasred96.fits',\n",
       " '/home/fabio/Faculdade/Tratamento de Dados/Projeto/rep1/ciencia_biasred/light_biasred72.fits',\n",
       " '/home/fabio/Faculdade/Tratamento de Dados/Projeto/rep1/ciencia_biasred/light_biasred15.fits',\n",
       " '/home/fabio/Faculdade/Tratamento de Dados/Projeto/rep1/ciencia_biasred/light_biasred133.fits',\n",
       " '/home/fabio/Faculdade/Tratamento de Dados/Projeto/rep1/ciencia_biasred/light_biasred11.fits',\n",
       " '/home/fabio/Faculdade/Tratamento de Dados/Projeto/rep1/ciencia_biasred/light_biasred49.fits',\n",
       " '/home/fabio/Faculdade/Tratamento de Dados/Projeto/rep1/ciencia_biasred/light_biasred130.fits',\n",
       " '/home/fabio/Faculdade/Tratamento de Dados/Projeto/rep1/ciencia_biasred/light_biasred93.fits',\n",
       " '/home/fabio/Faculdade/Tratamento de Dados/Projeto/rep1/ciencia_biasred/light_biasred50.fits',\n",
       " '/home/fabio/Faculdade/Tratamento de Dados/Projeto/rep1/ciencia_biasred/light_biasred124.fits',\n",
       " '/home/fabio/Faculdade/Tratamento de Dados/Projeto/rep1/ciencia_biasred/light_biasred67.fits',\n",
       " '/home/fabio/Faculdade/Tratamento de Dados/Projeto/rep1/ciencia_biasred/light_biasred7.fits',\n",
       " '/home/fabio/Faculdade/Tratamento de Dados/Projeto/rep1/ciencia_biasred/light_biasred114.fits',\n",
       " '/home/fabio/Faculdade/Tratamento de Dados/Projeto/rep1/ciencia_biasred/light_biasred104.fits',\n",
       " '/home/fabio/Faculdade/Tratamento de Dados/Projeto/rep1/ciencia_biasred/light_biasred14.fits',\n",
       " '/home/fabio/Faculdade/Tratamento de Dados/Projeto/rep1/ciencia_biasred/light_biasred112.fits',\n",
       " '/home/fabio/Faculdade/Tratamento de Dados/Projeto/rep1/ciencia_biasred/light_biasred13.fits',\n",
       " '/home/fabio/Faculdade/Tratamento de Dados/Projeto/rep1/ciencia_biasred/light_biasred70.fits',\n",
       " '/home/fabio/Faculdade/Tratamento de Dados/Projeto/rep1/ciencia_biasred/light_biasred47.fits',\n",
       " '/home/fabio/Faculdade/Tratamento de Dados/Projeto/rep1/ciencia_biasred/light_biasred39.fits',\n",
       " '/home/fabio/Faculdade/Tratamento de Dados/Projeto/rep1/ciencia_biasred/light_biasred121.fits',\n",
       " '/home/fabio/Faculdade/Tratamento de Dados/Projeto/rep1/ciencia_biasred/light_biasred17.fits',\n",
       " '/home/fabio/Faculdade/Tratamento de Dados/Projeto/rep1/ciencia_biasred/light_biasred62.fits',\n",
       " '/home/fabio/Faculdade/Tratamento de Dados/Projeto/rep1/ciencia_biasred/light_biasred91.fits',\n",
       " '/home/fabio/Faculdade/Tratamento de Dados/Projeto/rep1/ciencia_biasred/light_biasred71.fits',\n",
       " '/home/fabio/Faculdade/Tratamento de Dados/Projeto/rep1/ciencia_biasred/light_biasred78.fits',\n",
       " '/home/fabio/Faculdade/Tratamento de Dados/Projeto/rep1/ciencia_biasred/light_biasred19.fits',\n",
       " '/home/fabio/Faculdade/Tratamento de Dados/Projeto/rep1/ciencia_biasred/light_biasred64.fits',\n",
       " '/home/fabio/Faculdade/Tratamento de Dados/Projeto/rep1/ciencia_biasred/light_biasred102.fits',\n",
       " '/home/fabio/Faculdade/Tratamento de Dados/Projeto/rep1/ciencia_biasred/light_biasred51.fits',\n",
       " '/home/fabio/Faculdade/Tratamento de Dados/Projeto/rep1/ciencia_biasred/light_biasred75.fits',\n",
       " '/home/fabio/Faculdade/Tratamento de Dados/Projeto/rep1/ciencia_biasred/light_biasred33.fits',\n",
       " '/home/fabio/Faculdade/Tratamento de Dados/Projeto/rep1/ciencia_biasred/light_biasred48.fits',\n",
       " '/home/fabio/Faculdade/Tratamento de Dados/Projeto/rep1/ciencia_biasred/light_biasred5.fits',\n",
       " '/home/fabio/Faculdade/Tratamento de Dados/Projeto/rep1/ciencia_biasred/light_biasred123.fits',\n",
       " '/home/fabio/Faculdade/Tratamento de Dados/Projeto/rep1/ciencia_biasred/light_biasred88.fits',\n",
       " '/home/fabio/Faculdade/Tratamento de Dados/Projeto/rep1/ciencia_biasred/light_biasred126.fits',\n",
       " '/home/fabio/Faculdade/Tratamento de Dados/Projeto/rep1/ciencia_biasred/light_biasred1.fits',\n",
       " '/home/fabio/Faculdade/Tratamento de Dados/Projeto/rep1/ciencia_biasred/light_biasred73.fits',\n",
       " '/home/fabio/Faculdade/Tratamento de Dados/Projeto/rep1/ciencia_biasred/light_biasred76.fits',\n",
       " '/home/fabio/Faculdade/Tratamento de Dados/Projeto/rep1/ciencia_biasred/light_biasred80.fits',\n",
       " '/home/fabio/Faculdade/Tratamento de Dados/Projeto/rep1/ciencia_biasred/light_biasred12.fits',\n",
       " '/home/fabio/Faculdade/Tratamento de Dados/Projeto/rep1/ciencia_biasred/light_biasred24.fits',\n",
       " '/home/fabio/Faculdade/Tratamento de Dados/Projeto/rep1/ciencia_biasred/light_biasred131.fits',\n",
       " '/home/fabio/Faculdade/Tratamento de Dados/Projeto/rep1/ciencia_biasred/light_biasred106.fits',\n",
       " '/home/fabio/Faculdade/Tratamento de Dados/Projeto/rep1/ciencia_biasred/light_biasred38.fits',\n",
       " '/home/fabio/Faculdade/Tratamento de Dados/Projeto/rep1/ciencia_biasred/light_biasred29.fits',\n",
       " '/home/fabio/Faculdade/Tratamento de Dados/Projeto/rep1/ciencia_biasred/light_biasred35.fits',\n",
       " '/home/fabio/Faculdade/Tratamento de Dados/Projeto/rep1/ciencia_biasred/light_biasred129.fits',\n",
       " '/home/fabio/Faculdade/Tratamento de Dados/Projeto/rep1/ciencia_biasred/light_biasred9.fits',\n",
       " '/home/fabio/Faculdade/Tratamento de Dados/Projeto/rep1/ciencia_biasred/light_biasred82.fits',\n",
       " '/home/fabio/Faculdade/Tratamento de Dados/Projeto/rep1/ciencia_biasred/light_biasred18.fits',\n",
       " '/home/fabio/Faculdade/Tratamento de Dados/Projeto/rep1/ciencia_biasred/light_biasred21.fits',\n",
       " '/home/fabio/Faculdade/Tratamento de Dados/Projeto/rep1/ciencia_biasred/light_biasred3.fits',\n",
       " '/home/fabio/Faculdade/Tratamento de Dados/Projeto/rep1/ciencia_biasred/light_biasred30.fits',\n",
       " '/home/fabio/Faculdade/Tratamento de Dados/Projeto/rep1/ciencia_biasred/light_biasred74.fits',\n",
       " '/home/fabio/Faculdade/Tratamento de Dados/Projeto/rep1/ciencia_biasred/light_biasred46.fits',\n",
       " '/home/fabio/Faculdade/Tratamento de Dados/Projeto/rep1/ciencia_biasred/light_biasred92.fits',\n",
       " '/home/fabio/Faculdade/Tratamento de Dados/Projeto/rep1/ciencia_biasred/light_biasred8.fits',\n",
       " '/home/fabio/Faculdade/Tratamento de Dados/Projeto/rep1/ciencia_biasred/light_biasred41.fits',\n",
       " '/home/fabio/Faculdade/Tratamento de Dados/Projeto/rep1/ciencia_biasred/light_biasred119.fits',\n",
       " '/home/fabio/Faculdade/Tratamento de Dados/Projeto/rep1/ciencia_biasred/light_biasred98.fits',\n",
       " '/home/fabio/Faculdade/Tratamento de Dados/Projeto/rep1/ciencia_biasred/light_biasred100.fits',\n",
       " '/home/fabio/Faculdade/Tratamento de Dados/Projeto/rep1/ciencia_biasred/light_biasred52.fits',\n",
       " '/home/fabio/Faculdade/Tratamento de Dados/Projeto/rep1/ciencia_biasred/light_biasred83.fits',\n",
       " '/home/fabio/Faculdade/Tratamento de Dados/Projeto/rep1/ciencia_biasred/light_biasred63.fits',\n",
       " '/home/fabio/Faculdade/Tratamento de Dados/Projeto/rep1/ciencia_biasred/light_biasred22.fits',\n",
       " '/home/fabio/Faculdade/Tratamento de Dados/Projeto/rep1/ciencia_biasred/light_biasred95.fits',\n",
       " '/home/fabio/Faculdade/Tratamento de Dados/Projeto/rep1/ciencia_biasred/light_biasred26.fits',\n",
       " '/home/fabio/Faculdade/Tratamento de Dados/Projeto/rep1/ciencia_biasred/light_biasred111.fits',\n",
       " '/home/fabio/Faculdade/Tratamento de Dados/Projeto/rep1/ciencia_biasred/light_biasred23.fits',\n",
       " '/home/fabio/Faculdade/Tratamento de Dados/Projeto/rep1/ciencia_biasred/light_biasred55.fits',\n",
       " '/home/fabio/Faculdade/Tratamento de Dados/Projeto/rep1/ciencia_biasred/light_biasred117.fits',\n",
       " '/home/fabio/Faculdade/Tratamento de Dados/Projeto/rep1/ciencia_biasred/light_biasred107.fits',\n",
       " '/home/fabio/Faculdade/Tratamento de Dados/Projeto/rep1/ciencia_biasred/light_biasred60.fits',\n",
       " '/home/fabio/Faculdade/Tratamento de Dados/Projeto/rep1/ciencia_biasred/light_biasred118.fits',\n",
       " '/home/fabio/Faculdade/Tratamento de Dados/Projeto/rep1/ciencia_biasred/light_biasred99.fits',\n",
       " '/home/fabio/Faculdade/Tratamento de Dados/Projeto/rep1/ciencia_biasred/light_biasred31.fits',\n",
       " '/home/fabio/Faculdade/Tratamento de Dados/Projeto/rep1/ciencia_biasred/light_biasred113.fits',\n",
       " '/home/fabio/Faculdade/Tratamento de Dados/Projeto/rep1/ciencia_biasred/light_biasred57.fits',\n",
       " '/home/fabio/Faculdade/Tratamento de Dados/Projeto/rep1/ciencia_biasred/light_biasred81.fits',\n",
       " '/home/fabio/Faculdade/Tratamento de Dados/Projeto/rep1/ciencia_biasred/light_biasred105.fits',\n",
       " '/home/fabio/Faculdade/Tratamento de Dados/Projeto/rep1/ciencia_biasred/light_biasred89.fits',\n",
       " '/home/fabio/Faculdade/Tratamento de Dados/Projeto/rep1/ciencia_biasred/light_biasred68.fits']"
      ]
     },
     "execution_count": 47,
     "metadata": {},
     "output_type": "execute_result"
    }
   ],
   "source": [
    "# Aqui separo em grupos com o glob\n",
    "\n",
    "flatfiles_biasred = [f for f in glob.glob(path_flat_biasred + \"flat_biasred*.fits\", recursive=True)]\n",
    "lightfiles_biasred = [f for f in glob.glob(path_ciencia_biasred + \"light_biasred*.fits\", recursive=True)]\n",
    "\n",
    "lightfiles_biasred"
   ]
  },
  {
   "cell_type": "code",
   "execution_count": 48,
   "metadata": {
    "scrolled": true
   },
   "outputs": [
    {
     "name": "stdout",
     "output_type": "stream",
     "text": [
      "[[-1052.1492    -1063.4819    -1057.1459    ... -1228.3245\n",
      "  -1216.0913    -1215.2501   ]\n",
      " [ -513.0233     -521.7311     -517.7179    ...  -604.4083\n",
      "   -592.5071     -591.5614   ]\n",
      " [ -251.2395     -258.2262     -259.91266   ...  -303.52072\n",
      "   -284.86197    -283.7772   ]\n",
      " ...\n",
      " [   18.966187      4.2117615     5.589905  ...     4.4740295\n",
      "     19.948944     20.167694 ]\n",
      " [   17.705353      7.581085      3.6965637 ...     2.3892212\n",
      "     16.767761     16.998016 ]\n",
      " [   15.746857      4.7013855     4.075348  ...     8.294891\n",
      "     20.680847     20.84143  ]]\n",
      "59513.574\n"
     ]
    },
    {
     "data": {
      "text/plain": [
       "(1365, 1365)"
      ]
     },
     "execution_count": 48,
     "metadata": {},
     "output_type": "execute_result"
    }
   ],
   "source": [
    "# Abaixo checo abrir uma imagem das reduzidas, vejo que tem contagens negativas, deve ser de regiões onde não há sinal\n",
    "#astronômico e as contagens do bias superam são maiores, nesses casos não sei como faço. Deixo negativo ou zero.\n",
    "\n",
    "img,hdr=fits.getdata('/home/fabio/Faculdade/Tratamento de Dados/Projeto/rep1/ciencia_biasred/light_biasred2.fits',header=True)\n",
    "print(img)\n",
    "print(np.max(img))\n",
    "img.shape"
   ]
  },
  {
   "cell_type": "markdown",
   "metadata": {},
   "source": [
    "## 6) NORMALIZANDO IMAGENS FLAT REDUZIDOS DO BIAS"
   ]
  },
  {
   "cell_type": "code",
   "execution_count": 49,
   "metadata": {},
   "outputs": [],
   "source": [
    "l = locals()\n",
    "cont=1\n",
    "for f in flatfiles_biasred:\n",
    "    x=[fits.getdata(image) for image in flatfiles_biasred]\n",
    "    img=array(x[cont-1])\n",
    "    media=np.mean(img)\n",
    "    img2 = img/media\n",
    "    hdu = fits.PrimaryHDU(img2)\n",
    "    hdul = fits.HDUList([hdu])\n",
    "    hdul.writeto(path_flat_biasred_normalizados + 'flat_biasred_normalizados' + str(cont) + '.fits')\n",
    "    hdul.close()    \n",
    "    cont=cont+1\n",
    "    "
   ]
  },
  {
   "cell_type": "markdown",
   "metadata": {},
   "source": [
    "## 7) CRIANDO MASTER FLAT A PARTIR DOS FLATS NORMALIZADOS"
   ]
  },
  {
   "cell_type": "code",
   "execution_count": 51,
   "metadata": {},
   "outputs": [
    {
     "name": "stdout",
     "output_type": "stream",
     "text": [
      "10 1365 1365\n"
     ]
    }
   ],
   "source": [
    "#Aqui, o procedimento é exatamente igual a criação do master bias\n",
    "\n",
    "# Primeiro vou criar um cubo de dados pros flats reduzidos do bias e normalizados:\n",
    "\n",
    "flatfiles_biasred_normalizados = [f for f in glob.glob(path_flat_biasred_normalizados + \"flat_biasred_normalizado*.fits\", recursive=True)]\n",
    "\n",
    "flatredbiasnormalizadocube = [ fits.getdata(image) for image in flatfiles_biasred_normalizados ]\n",
    "\n",
    "# O número de imagens, e pixels de imagens de flat é o mesmo que s de bias, são 10 imagens,\n",
    "#cada uma com 1365, mas como aqui o pipeline é geral e poderia não ser assim, vou primeiro\n",
    "#guardar esses valores numa variável diferente\n",
    "\n",
    "nbias=len(flatredbiasnormalizadocube)\n",
    "nbiasprimd=len(flatredbiasnormalizadocube[0])\n",
    "nbiassegd=len(flatredbiasnormalizadocube[0][0])\n",
    "\n",
    "print(nbias,nbiasprimd,nbiassegd)"
   ]
  },
  {
   "cell_type": "code",
   "execution_count": 52,
   "metadata": {},
   "outputs": [],
   "source": [
    "# Agora vou de fato fazer o masterflat, da fórmula anterior, eu só mudei mesmo os nomes, porque\n",
    "#são 10 imagens, mas lembre-se que essa parte devo mudar manualmente.\n",
    "\n",
    "master_flat_normalizado = np.median(flatredbiasnormalizadocube,axis=0)"
   ]
  },
  {
   "cell_type": "code",
   "execution_count": 53,
   "metadata": {},
   "outputs": [],
   "source": [
    "# Por fim crio o arquivo do master flat\n",
    "\n",
    "hdu = fits.PrimaryHDU(master_flat_normalizado)\n",
    "hdul = fits.HDUList([hdu])\n",
    "hdul.writeto('master_flat_normalizado.fits')\n",
    "hdul.close()"
   ]
  },
  {
   "cell_type": "markdown",
   "metadata": {},
   "source": [
    "## 8) REDUZINDO O MASTER FLAT NORMALIZADO DAS IMAGENS DE CIÊNCIA"
   ]
  },
  {
   "cell_type": "code",
   "execution_count": 55,
   "metadata": {},
   "outputs": [],
   "source": [
    "# REDUZINDO IMAGENS DE CIÊNCIA E SALVANDO NA PASTA, A DIFERENÇA É QUE DIFERENTEMENTE DO BIAS\n",
    "#AQUI EU DIVIDO E NÃO SUBTRAIO. \n",
    "\n",
    "l = locals()\n",
    "cont=1\n",
    "for f in lightfiles_biasred:\n",
    "    x=[fits.getdata(image) for image in lightfiles_biasred]\n",
    "    img=array(x[cont-1])\n",
    "    img2 = img/master_flat_normalizado\n",
    "    hdu = fits.PrimaryHDU(img2)\n",
    "    hdul = fits.HDUList([hdu])\n",
    "    hdul.writeto(path_ciencia_corrigidas + 'ciencia_final' + str(cont) + '.fits')\n",
    "    hdul.close()    \n",
    "    cont=cont+1\n",
    "    "
   ]
  },
  {
   "cell_type": "code",
   "execution_count": 56,
   "metadata": {},
   "outputs": [],
   "source": [
    "# Aqui abaixo só uns testes que deixei pra ver o formato dos arquivos."
   ]
  },
  {
   "cell_type": "code",
   "execution_count": 57,
   "metadata": {},
   "outputs": [
    {
     "data": {
      "text/plain": [
       "(1365, 1365)"
      ]
     },
     "execution_count": 57,
     "metadata": {},
     "output_type": "execute_result"
    }
   ],
   "source": [
    "img2.shape"
   ]
  },
  {
   "cell_type": "code",
   "execution_count": 58,
   "metadata": {},
   "outputs": [
    {
     "data": {
      "text/plain": [
       "(1365, 1365)"
      ]
     },
     "execution_count": 58,
     "metadata": {},
     "output_type": "execute_result"
    }
   ],
   "source": [
    "img,hdr=fits.getdata('/home/fabio/Faculdade/Tratamento de Dados/Projeto/rep1/ciencia_biasred/light_biasred1.fits',header=True)\n",
    "img.shape"
   ]
  },
  {
   "cell_type": "code",
   "execution_count": 59,
   "metadata": {},
   "outputs": [
    {
     "data": {
      "text/plain": [
       "(1365, 1365)"
      ]
     },
     "execution_count": 59,
     "metadata": {},
     "output_type": "execute_result"
    }
   ],
   "source": [
    "img,hdr=fits.getdata('/home/fabio/Faculdade/Tratamento de Dados/Projeto/rep1/imagens_originais/xo2b/xo2b.0002.fits',header=True)\n",
    "img.shape"
   ]
  },
  {
   "cell_type": "code",
   "execution_count": 60,
   "metadata": {},
   "outputs": [
    {
     "data": {
      "text/plain": [
       "(1365, 1365)"
      ]
     },
     "execution_count": 60,
     "metadata": {},
     "output_type": "execute_result"
    }
   ],
   "source": [
    "master_flat_normalizado.shape"
   ]
  },
  {
   "cell_type": "code",
   "execution_count": 61,
   "metadata": {},
   "outputs": [
    {
     "data": {
      "text/plain": [
       "<matplotlib.colorbar.Colorbar at 0x7fd7aa27eeb8>"
      ]
     },
     "execution_count": 61,
     "metadata": {},
     "output_type": "execute_result"
    },
    {
     "data": {
      "image/png": "[encoded data removed]",
      "text/plain": [
       "<Figure size 432x288 with 2 Axes>"
      ]
     },
     "metadata": {},
     "output_type": "display_data"
    }
   ],
   "source": [
    "# Vou abrir alguma imagem de ciência final pra ver\n",
    "\n",
    "img,hdr=fits.getdata('/home/fabio/Faculdade/Tratamento de Dados/Projeto/rep1/ciencia_finais/ciencia_final1.fits',header=True)\n",
    "\n",
    "plt.imshow(img,cmap='Greys')\n",
    "plt.colorbar()"
   ]
  }
 ],
 "metadata": {
  "kernelspec": {
   "display_name": "Python 3",
   "language": "python",
   "name": "python3"
  },
  "language_info": {
   "codemirror_mode": {
    "name": "ipython",
    "version": 3
   },
   "file_extension": ".py",
   "mimetype": "text/x-python",
   "name": "python",
   "nbconvert_exporter": "python",
   "pygments_lexer": "ipython3",
   "version": "3.6.5"
  }
 },
 "nbformat": 4,
 "nbformat_minor": 2
}
